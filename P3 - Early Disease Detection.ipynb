{
 "cells": [
  {
   "cell_type": "markdown",
   "id": "0f639d85-3541-4b05-94b1-b913306c57ef",
   "metadata": {},
   "source": [
    "### Overview\n",
    "Cardiovascular diseases (CVDs), including heart disease, are the leading cause of death worldwide. Early detection of heart disease is critical for preventing serious health outcomes and improving the quality of life for patients. With the increasing availability of medical data, machine learning models can be used to predict whether a patient is likely to develop heart disease based on certain health indicators.\n",
    "\n",
    "In this project, you will build a classification model to predict whether an individual is likely to have heart disease or not. The dataset provided includes various health and demographic factors such as age, blood pressure, cholesterol levels, and lifestyle habits (e.g., smoking and alcohol consumption). The goal is to train a model to identify which individuals have heart disease based on these features.\n"
   ]
  },
  {
   "cell_type": "markdown",
   "id": "d14205ee-d951-4811-8fbe-36e69a7e8d47",
   "metadata": {},
   "source": [
    "### Problem Statement\n",
    "You are provided with a dataset that contains health-related information about individuals. Your task is to develop a machine learning model that can predict the presence of heart disease based on the provided features. The target variable in the dataset is \"disease,\" which indicates whether a person has heart disease (1) or not (0).\n",
    "\n",
    "Refer to the **Data information.pdf** for more details on variables before importing the data to the notebook."
   ]
  },
  {
   "cell_type": "code",
   "execution_count": null,
   "id": "9b761b39-6fc4-4eba-b086-3d2aac3da239",
   "metadata": {},
   "outputs": [],
   "source": [
    "# Import necessary libraries\n",
    "\n",
    "import pandas as pd\n",
    "import numpy as np\n",
    "import matplotlib.pyplot as plt\n",
    "import seaborn as sns\n",
    "from sklearn.model_selection import train_test_split, GridSearchCV\n",
    "from sklearn.preprocessing import StandardScaler, LabelEncoder\n",
    "from sklearn.metrics import accuracy_score, confusion_matrix, classification_report, roc_auc_score, roc_curve\n",
    "from sklearn.linear_model import LogisticRegression\n",
    "from sklearn.tree import DecisionTreeClassifier\n",
    "from sklearn.svm import SVC\n",
    "\n",
    "import warnings\n",
    "\n",
    "warnings.filterwarnings(\"ignore\")"
   ]
  },
  {
   "cell_type": "code",
   "execution_count": null,
   "id": "1d022fd1-5dac-469b-9749-c359489dee7e",
   "metadata": {},
   "outputs": [],
   "source": [
    "# Load the dataset\n",
    "df = pd.read_csv('data_file.csv')"
   ]
  },
  {
   "cell_type": "code",
   "execution_count": null,
   "id": "0039d685-385e-40db-98fa-45b1401e0b87",
   "metadata": {},
   "outputs": [],
   "source": [
    "# Display the first few rows of the dataset\n",
    "df.head()"
   ]
  },
  {
   "cell_type": "markdown",
   "id": "3edb7625-a7f9-4008-bae4-5835cee56b90",
   "metadata": {},
   "source": [
    "### Data Preprocessing"
   ]
  },
  {
   "cell_type": "code",
   "execution_count": null,
   "id": "e4fa477a-41b7-4685-a8ab-f6435e26084d",
   "metadata": {},
   "outputs": [],
   "source": [
    "# Drop any unnecessary columns (for example, 'id', 'date')\n",
    "df.drop(['id', 'date'], axis=1, inplace=True)"
   ]
  },
  {
   "cell_type": "code",
   "execution_count": null,
   "id": "dcc1eff0-53fc-41ab-a37f-44925714c251",
   "metadata": {},
   "outputs": [],
   "source": [
    "# Checking for null values\n",
    "df.isnull().sum()"
   ]
  },
  {
   "cell_type": "code",
   "execution_count": null,
   "id": "e3031111-6c10-446d-bcf9-c6b04a2ef8c7",
   "metadata": {},
   "outputs": [],
   "source": [
    "# Convert categorical variables to numerical ones\n",
    "label_encoder = LabelEncoder()\n",
    "df['country'] = label_encoder.fit_transform(df['country'])\n",
    "df['occupation'] = label_encoder.fit_transform(df['occupation'])"
   ]
  },
  {
   "cell_type": "code",
   "execution_count": null,
   "id": "0d41ff03-5739-41fd-bf19-d2cd2f680e85",
   "metadata": {},
   "outputs": [],
   "source": [
    "# Define features (X) and target variable (y)\n",
    "X = df.drop('disease', axis=1)\n",
    "y = df['disease']"
   ]
  },
  {
   "cell_type": "code",
   "execution_count": null,
   "id": "bdc2b2c6-a2f4-4b4d-a650-fe655525fe64",
   "metadata": {},
   "outputs": [],
   "source": [
    "# Train-test split\n",
    "X_train, X_test, y_train, y_test = train_test_split(X, y, test_size=0.2, random_state=42)"
   ]
  },
  {
   "cell_type": "code",
   "execution_count": null,
   "id": "715cdab1-a8d8-4765-b43a-8abc907f034f",
   "metadata": {},
   "outputs": [],
   "source": [
    "# Normalize numerical features\n",
    "scaler = StandardScaler()\n",
    "X_train = scaler.fit_transform(X_train)\n",
    "X_test = scaler.transform(X_test)"
   ]
  },
  {
   "cell_type": "markdown",
   "id": "d3b02c9c-4cb4-46d1-ad6d-6d5828fbf212",
   "metadata": {},
   "source": [
    "### Exploratory Data Analysis (EDA)"
   ]
  },
  {
   "cell_type": "code",
   "execution_count": null,
   "id": "2c75451a-fbf5-4889-9a57-6a3d6e3754e3",
   "metadata": {},
   "outputs": [],
   "source": [
    "# Visualize the distribution of key features\n",
    "plt.figure(figsize=(12,6))\n",
    "sns.histplot(df['age'], kde=True)\n",
    "plt.title('Age Distribution')\n",
    "plt.show()"
   ]
  },
  {
   "cell_type": "code",
   "execution_count": null,
   "id": "4b9a6c07-5db8-41ac-b42e-54a185343e12",
   "metadata": {},
   "outputs": [],
   "source": [
    "# Correlation matrix\n",
    "plt.figure(figsize=(12,8))\n",
    "sns.heatmap(df.corr(), annot=True, cmap='coolwarm')\n",
    "plt.title('Correlation Matrix')\n",
    "plt.show()\n"
   ]
  },
  {
   "cell_type": "markdown",
   "id": "67020092-a913-49de-9f7d-d25d027c9efa",
   "metadata": {},
   "source": [
    "### Model Building"
   ]
  },
  {
   "cell_type": "markdown",
   "id": "7c95999c-51fb-42c9-b820-4e3dac4ac553",
   "metadata": {},
   "source": [
    "#### 1. Logistic Regression"
   ]
  },
  {
   "cell_type": "code",
   "execution_count": null,
   "id": "dbcf4fdd-0710-4817-bd2b-19f54df4e5e4",
   "metadata": {},
   "outputs": [],
   "source": [
    "log_reg = LogisticRegression(random_state=42)\n",
    "log_reg.fit(X_train, y_train)"
   ]
  },
  {
   "cell_type": "code",
   "execution_count": null,
   "id": "13c29d7a-1a4a-4669-8f3f-69576b063a2b",
   "metadata": {},
   "outputs": [],
   "source": [
    "# Predict on the test set\n",
    "y_pred_log = log_reg.predict(X_test)"
   ]
  },
  {
   "cell_type": "code",
   "execution_count": null,
   "id": "48e36037-02a6-4fea-a18c-a0b50f9e369f",
   "metadata": {},
   "outputs": [],
   "source": [
    "# Accuracy score for Logistic Regression\n",
    "accuracy_log = accuracy_score(y_test, y_pred_log)\n",
    "print(f\"Logistic Regression Accuracy: {accuracy_log * 100:.2f}%\")"
   ]
  },
  {
   "cell_type": "markdown",
   "id": "98c8c1c4-7fa9-47d9-afca-0952906e77c8",
   "metadata": {},
   "source": [
    "#### 2. Decision Tree"
   ]
  },
  {
   "cell_type": "code",
   "execution_count": null,
   "id": "84e8fd17-5759-4954-ae84-0f38458feda7",
   "metadata": {},
   "outputs": [],
   "source": [
    "tree = DecisionTreeClassifier(random_state=42)\n",
    "tree.fit(X_train, y_train)"
   ]
  },
  {
   "cell_type": "code",
   "execution_count": null,
   "id": "40cdb673-bf97-49cb-8074-dc5a63d78884",
   "metadata": {},
   "outputs": [],
   "source": [
    "# Predict on the test set\n",
    "y_pred_tree = tree.predict(X_test)"
   ]
  },
  {
   "cell_type": "code",
   "execution_count": null,
   "id": "fc54fc3c-0a42-453d-819f-86b40b715755",
   "metadata": {},
   "outputs": [],
   "source": [
    "# Accuracy score for Decision Tree\n",
    "accuracy_tree = accuracy_score(y_test, y_pred_tree)\n",
    "print(f\"Decision Tree Accuracy: {accuracy_tree * 100:.2f}%\")\n"
   ]
  },
  {
   "cell_type": "markdown",
   "id": "ff912679-c0d7-42d2-88f8-499c18605d06",
   "metadata": {},
   "source": [
    "#### 3. Support Vector Machine (SVM)"
   ]
  },
  {
   "cell_type": "code",
   "execution_count": null,
   "id": "b165005c-c5d3-4343-b248-c8004a33c66e",
   "metadata": {},
   "outputs": [],
   "source": [
    "svm = SVC()\n",
    "svm.fit(X_train, y_train)"
   ]
  },
  {
   "cell_type": "code",
   "execution_count": null,
   "id": "a741d408-9fab-4e38-9662-e9747d918dc4",
   "metadata": {},
   "outputs": [],
   "source": [
    "# Predict on the test set\n",
    "y_pred_svm = svm.predict(X_test)\n",
    "\n",
    "# Accuracy score for SVM\n",
    "accuracy_svm = accuracy_score(y_test, y_pred_svm)\n",
    "print(f\"SVM Accuracy: {accuracy_svm * 100:.2f}%\")\n"
   ]
  },
  {
   "cell_type": "markdown",
   "id": "8db091aa-a078-4740-a097-9253a5ebb9d4",
   "metadata": {},
   "source": [
    "### Model Evaluation"
   ]
  },
  {
   "cell_type": "code",
   "execution_count": null,
   "id": "c7b06fd9-a0b6-4ecb-825c-ca1fc85b796c",
   "metadata": {},
   "outputs": [],
   "source": [
    "# Defining a custom function to call for the evaluation\n",
    "\n",
    "def evaluate_model(y_test, y_pred, model_name):\n",
    "    # Confusion Matrix\n",
    "    conf_matrix = confusion_matrix(y_test, y_pred)\n",
    "    plt.figure(figsize=(6,4))\n",
    "    sns.heatmap(conf_matrix, annot=True, fmt='d', cmap='Blues')\n",
    "    plt.title(f'{model_name} - Confusion Matrix')\n",
    "    plt.show()\n",
    "\n",
    "    # Classification Report\n",
    "    print(f\"{model_name} - Classification Report:\")\n",
    "    print(classification_report(y_test, y_pred))"
   ]
  },
  {
   "cell_type": "code",
   "execution_count": null,
   "id": "5ed0749f-4adf-4293-9c4b-09f6a4a8084c",
   "metadata": {},
   "outputs": [],
   "source": [
    "# Evaluate each model\n",
    "\n",
    "evaluate_model(y_test, y_pred_log, \"Logistic Regression\")\n",
    "evaluate_model(y_test, y_pred_tree, \"Decision Tree\")\n",
    "evaluate_model(y_test, y_pred_svm, \"SVM\")"
   ]
  },
  {
   "cell_type": "markdown",
   "id": "7ea04607-52ec-4cc2-83f0-7f8c54a443da",
   "metadata": {},
   "source": [
    "### Hyperparameter Tuning with GridSearchCV"
   ]
  },
  {
   "cell_type": "markdown",
   "id": "a6b1484a-0043-42d3-a30d-dcace4b4390f",
   "metadata": {},
   "source": [
    "#### 1. Logistic Regression"
   ]
  },
  {
   "cell_type": "code",
   "execution_count": null,
   "id": "c76d20c9-393e-47b3-a6d9-0efa8261efa8",
   "metadata": {},
   "outputs": [],
   "source": [
    "param_grid_log = {'C': [0.1, 1, 10], 'solver': ['liblinear', 'saga']}\n",
    "grid_log_reg = GridSearchCV(LogisticRegression(random_state=42), param_grid_log, cv=5, scoring='accuracy')\n",
    "grid_log_reg.fit(X_train, y_train)\n",
    "\n",
    "print(f\"Best Logistic Regression Parameters: {grid_log_reg.best_params_}\")\n",
    "print(f\"Best Logistic Regression Accuracy: {grid_log_reg.best_score_ * 100:.2f}%\")\n"
   ]
  },
  {
   "cell_type": "markdown",
   "id": "be9e8e72-bdf2-4214-81c4-e2bbf8091d01",
   "metadata": {},
   "source": [
    "#### 2. Decision Tree"
   ]
  },
  {
   "cell_type": "code",
   "execution_count": null,
   "id": "e3863e70-2ba6-4afa-944a-adc2b1b946fd",
   "metadata": {},
   "outputs": [],
   "source": [
    "param_grid_tree = {\n",
    "    'max_depth': [5, 10, 15],\n",
    "    'min_samples_split': [2, 5, 10],\n",
    "    'min_samples_leaf': [1, 2, 4]\n",
    "}\n",
    "grid_tree = GridSearchCV(DecisionTreeClassifier(random_state=42), param_grid_tree, cv=5, scoring='accuracy')\n",
    "grid_tree.fit(X_train, y_train)\n",
    "\n",
    "print(f\"Best Decision Tree Parameters: {grid_tree.best_params_}\")\n",
    "print(f\"Best Decision Tree Accuracy: {grid_tree.best_score_ * 100:.2f}%\")\n"
   ]
  },
  {
   "cell_type": "markdown",
   "id": "ceba8bdb-115f-4739-9a7b-8dda7c59316a",
   "metadata": {},
   "source": [
    "#### 3. SVM"
   ]
  },
  {
   "cell_type": "code",
   "execution_count": null,
   "id": "2007be49-86bf-497d-ac93-0ac628a7976f",
   "metadata": {},
   "outputs": [],
   "source": [
    "# SVM Hyperparameter Tuning\n",
    "param_grid_svm = {'C': [0.1, 1, 10], 'kernel': ['linear', 'rbf']}\n",
    "grid_svm = GridSearchCV(SVC(random_state=42), param_grid_svm, cv=5, scoring='accuracy')\n",
    "grid_svm.fit(X_train, y_train)\n",
    "\n",
    "print(f\"Best SVM Parameters: {grid_svm.best_params_}\")\n",
    "print(f\"Best SVM Accuracy: {grid_svm.best_score_ * 100:.2f}%\")\n",
    "\n",
    "# This code can take long to execute, if it takes too much time then interrupt the kernel and re execute."
   ]
  }
 ],
 "metadata": {
  "kernelspec": {
   "display_name": "Python 3 (ipykernel)",
   "language": "python",
   "name": "python3"
  },
  "language_info": {
   "codemirror_mode": {
    "name": "ipython",
    "version": 3
   },
   "file_extension": ".py",
   "mimetype": "text/x-python",
   "name": "python",
   "nbconvert_exporter": "python",
   "pygments_lexer": "ipython3",
   "version": "3.11.7"
  }
 },
 "nbformat": 4,
 "nbformat_minor": 5
}
